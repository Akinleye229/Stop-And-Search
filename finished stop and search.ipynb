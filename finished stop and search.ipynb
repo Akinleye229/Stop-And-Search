{
 "cells": [
  {
   "cell_type": "code",
   "execution_count": 2,
   "metadata": {},
   "outputs": [
    {
     "name": "stderr",
     "output_type": "stream",
     "text": [
      "C:\\Users\\Akinbola\\Anaconda3\\lib\\site-packages\\statsmodels\\tools\\_testing.py:19: FutureWarning: pandas.util.testing is deprecated. Use the functions in the public API at pandas.testing instead.\n",
      "  import pandas.util.testing as tm\n"
     ]
    }
   ],
   "source": [
    "import numpy as np\n",
    "import pandas as pd\n",
    "import requests\n",
    "import json\n",
    "import time\n",
    "import seaborn as sns\n",
    "import matplotlib.pyplot as plt\n",
    "from datetime import datetime\n",
    "df=pd.DataFrame(columns=[\"age_range\",\"outcome\",\"officer_defined_ethnicity\",\n",
    "                         \"gender\",\"datetime\",\"object_of_search\",\"self_defined_ethnicity\"])"
   ]
  },
  {
   "cell_type": "code",
   "execution_count": 3,
   "metadata": {},
   "outputs": [
    {
     "data": {
      "text/plain": [
       "[{'id': 'avon-and-somerset', 'name': 'Avon and Somerset Constabulary'},\n",
       " {'id': 'bedfordshire', 'name': 'Bedfordshire Police'},\n",
       " {'id': 'cambridgeshire', 'name': 'Cambridgeshire Constabulary'},\n",
       " {'id': 'cheshire', 'name': 'Cheshire Constabulary'},\n",
       " {'id': 'city-of-london', 'name': 'City of London Police'},\n",
       " {'id': 'cleveland', 'name': 'Cleveland Police'},\n",
       " {'id': 'cumbria', 'name': 'Cumbria Constabulary'},\n",
       " {'id': 'derbyshire', 'name': 'Derbyshire Constabulary'},\n",
       " {'id': 'devon-and-cornwall', 'name': 'Devon & Cornwall Police'},\n",
       " {'id': 'dorset', 'name': 'Dorset Police'},\n",
       " {'id': 'durham', 'name': 'Durham Constabulary'},\n",
       " {'id': 'dyfed-powys', 'name': 'Dyfed-Powys Police'},\n",
       " {'id': 'essex', 'name': 'Essex Police'},\n",
       " {'id': 'gloucestershire', 'name': 'Gloucestershire Constabulary'},\n",
       " {'id': 'greater-manchester', 'name': 'Greater Manchester Police'},\n",
       " {'id': 'gwent', 'name': 'Gwent Police'},\n",
       " {'id': 'hampshire', 'name': 'Hampshire Constabulary'},\n",
       " {'id': 'hertfordshire', 'name': 'Hertfordshire Constabulary'},\n",
       " {'id': 'humberside', 'name': 'Humberside Police'},\n",
       " {'id': 'kent', 'name': 'Kent Police'},\n",
       " {'id': 'lancashire', 'name': 'Lancashire Constabulary'},\n",
       " {'id': 'leicestershire', 'name': 'Leicestershire Police'},\n",
       " {'id': 'lincolnshire', 'name': 'Lincolnshire Police'},\n",
       " {'id': 'merseyside', 'name': 'Merseyside Police'},\n",
       " {'id': 'metropolitan', 'name': 'Metropolitan Police Service'},\n",
       " {'id': 'norfolk', 'name': 'Norfolk Constabulary'},\n",
       " {'id': 'north-wales', 'name': 'North Wales Police'},\n",
       " {'id': 'north-yorkshire', 'name': 'North Yorkshire Police'},\n",
       " {'id': 'northamptonshire', 'name': 'Northamptonshire Police'},\n",
       " {'id': 'northumbria', 'name': 'Northumbria Police'},\n",
       " {'id': 'nottinghamshire', 'name': 'Nottinghamshire Police'},\n",
       " {'id': 'northern-ireland', 'name': 'Police Service of Northern Ireland'},\n",
       " {'id': 'south-wales', 'name': 'South Wales Police'},\n",
       " {'id': 'south-yorkshire', 'name': 'South Yorkshire Police'},\n",
       " {'id': 'staffordshire', 'name': 'Staffordshire Police'},\n",
       " {'id': 'suffolk', 'name': 'Suffolk Constabulary'},\n",
       " {'id': 'surrey', 'name': 'Surrey Police'},\n",
       " {'id': 'sussex', 'name': 'Sussex Police'},\n",
       " {'id': 'thames-valley', 'name': 'Thames Valley Police'},\n",
       " {'id': 'warwickshire', 'name': 'Warwickshire Police'},\n",
       " {'id': 'west-mercia', 'name': 'West Mercia Police'},\n",
       " {'id': 'west-midlands', 'name': 'West Midlands Police'},\n",
       " {'id': 'west-yorkshire', 'name': 'West Yorkshire Police'},\n",
       " {'id': 'wiltshire', 'name': 'Wiltshire Police'}]"
      ]
     },
     "execution_count": 3,
     "metadata": {},
     "output_type": "execute_result"
    }
   ],
   "source": [
    "url=\"https://data.police.uk/api/forces\"\n",
    "response_forces =requests.get(url).json()\n",
    "response_forces"
   ]
  },
  {
   "cell_type": "code",
   "execution_count": 4,
   "metadata": {},
   "outputs": [
    {
     "data": {
      "text/plain": [
       "'avon-and-somerset'"
      ]
     },
     "execution_count": 4,
     "metadata": {},
     "output_type": "execute_result"
    }
   ],
   "source": [
    "response_forces[0]['id']"
   ]
  },
  {
   "cell_type": "code",
   "execution_count": 5,
   "metadata": {},
   "outputs": [
    {
     "data": {
      "text/plain": [
       "['avon-and-somerset',\n",
       " 'bedfordshire',\n",
       " 'cambridgeshire',\n",
       " 'cheshire',\n",
       " 'city-of-london',\n",
       " 'cleveland',\n",
       " 'cumbria',\n",
       " 'derbyshire',\n",
       " 'devon-and-cornwall',\n",
       " 'dorset',\n",
       " 'durham',\n",
       " 'dyfed-powys',\n",
       " 'essex',\n",
       " 'gloucestershire',\n",
       " 'greater-manchester',\n",
       " 'gwent',\n",
       " 'hampshire',\n",
       " 'hertfordshire',\n",
       " 'humberside',\n",
       " 'kent',\n",
       " 'lancashire',\n",
       " 'leicestershire',\n",
       " 'lincolnshire',\n",
       " 'merseyside',\n",
       " 'metropolitan',\n",
       " 'norfolk',\n",
       " 'north-wales',\n",
       " 'north-yorkshire',\n",
       " 'northamptonshire',\n",
       " 'northumbria',\n",
       " 'nottinghamshire',\n",
       " 'northern-ireland',\n",
       " 'south-wales',\n",
       " 'south-yorkshire',\n",
       " 'staffordshire',\n",
       " 'suffolk',\n",
       " 'surrey',\n",
       " 'sussex',\n",
       " 'thames-valley',\n",
       " 'warwickshire',\n",
       " 'west-mercia',\n",
       " 'west-midlands',\n",
       " 'west-yorkshire',\n",
       " 'wiltshire']"
      ]
     },
     "execution_count": 5,
     "metadata": {},
     "output_type": "execute_result"
    }
   ],
   "source": [
    "title_append=[]\n",
    "for m in range(len(response_forces)):\n",
    "    #print(response[j])\n",
    "    for id in response_forces[m]:\n",
    "        title_id=response_forces[m]['id']\n",
    "    title_append.append(response_forces[m]['id'])\n",
    "        \n",
    "        \n",
    "title_append "
   ]
  },
  {
   "cell_type": "code",
   "execution_count": 6,
   "metadata": {},
   "outputs": [
    {
     "name": "stdout",
     "output_type": "stream",
     "text": [
      "enter the police station you want to compare:suffolk\n",
      "enter  end date(yyyy-mm):2020-01\n"
     ]
    }
   ],
   "source": [
    "# exmaplesforces=\"cleveland\" you can use id of the different forces gotten above\n",
    "forces=input('enter the police station you want to compare:')\n",
    "#date=\"2020-01\"\n",
    "date =str(input('enter  end date(yyyy-mm):'))\n",
    "\n",
    "\n",
    "urls=\"https://data.police.uk/api/stops-force?force=\"+ forces + \"&date=\" + date\n",
    "#https://data.police.uk/api/stops-force?force=avon-and-somerset&date=2017-01\n",
    "response =requests.get(urls).json()\n",
    "\n",
    "for j in range(len(response)):\n",
    "    age_range=response[j]['age_range']\n",
    "    outcome=response[j]['outcome']\n",
    "    officer_defined_ethnicity=response[j]['officer_defined_ethnicity']\n",
    "    gender=response[j]['gender']\n",
    "    datetime=response[j]['datetime']\n",
    "    datetime=str(datetime).split(\"T\")[0]\n",
    "    object_of_search=response[j]['object_of_search']\n",
    "    self_defined_ethnicity=response[j]['self_defined_ethnicity']\n",
    "                     \n",
    "    #print(age_range)\n",
    "    #print(outcome)\n",
    "    #print(officer_defined_ethnicity)\n",
    "    df=df.append({'age_range':age_range,'outcome':outcome, \n",
    "                  'officer_defined_ethnicity':officer_defined_ethnicity,'gender':gender,'datetime':datetime,\n",
    "                  'object_of_search':object_of_search,'self_defined_ethnicity':self_defined_ethnicity,\n",
    "                  \n",
    "                  \n",
    "                  \n",
    "                 }, ignore_index=True)\n",
    "    \n"
   ]
  },
  {
   "cell_type": "code",
   "execution_count": 7,
   "metadata": {},
   "outputs": [
    {
     "data": {
      "text/html": [
       "<div>\n",
       "<style scoped>\n",
       "    .dataframe tbody tr th:only-of-type {\n",
       "        vertical-align: middle;\n",
       "    }\n",
       "\n",
       "    .dataframe tbody tr th {\n",
       "        vertical-align: top;\n",
       "    }\n",
       "\n",
       "    .dataframe thead th {\n",
       "        text-align: right;\n",
       "    }\n",
       "</style>\n",
       "<table border=\"1\" class=\"dataframe\">\n",
       "  <thead>\n",
       "    <tr style=\"text-align: right;\">\n",
       "      <th></th>\n",
       "      <th>age_range</th>\n",
       "      <th>outcome</th>\n",
       "      <th>officer_defined_ethnicity</th>\n",
       "      <th>gender</th>\n",
       "      <th>datetime</th>\n",
       "      <th>object_of_search</th>\n",
       "      <th>self_defined_ethnicity</th>\n",
       "    </tr>\n",
       "  </thead>\n",
       "  <tbody>\n",
       "    <tr>\n",
       "      <th>0</th>\n",
       "      <td>25-34</td>\n",
       "      <td>Arrest</td>\n",
       "      <td>White</td>\n",
       "      <td>Male</td>\n",
       "      <td>2020-01-01</td>\n",
       "      <td>Controlled drugs</td>\n",
       "      <td>Other ethnic group - Not stated</td>\n",
       "    </tr>\n",
       "    <tr>\n",
       "      <th>1</th>\n",
       "      <td>18-24</td>\n",
       "      <td>A no further action disposal</td>\n",
       "      <td>White</td>\n",
       "      <td>Male</td>\n",
       "      <td>2020-01-02</td>\n",
       "      <td>Anything to threaten or harm anyone</td>\n",
       "      <td>White - English/Welsh/Scottish/Northern Irish/...</td>\n",
       "    </tr>\n",
       "    <tr>\n",
       "      <th>2</th>\n",
       "      <td>10-17</td>\n",
       "      <td>A no further action disposal</td>\n",
       "      <td>Other</td>\n",
       "      <td>Male</td>\n",
       "      <td>2020-01-03</td>\n",
       "      <td>Article for use in theft</td>\n",
       "      <td>Other ethnic group - Not stated</td>\n",
       "    </tr>\n",
       "    <tr>\n",
       "      <th>3</th>\n",
       "      <td>18-24</td>\n",
       "      <td>A no further action disposal</td>\n",
       "      <td>White</td>\n",
       "      <td>Male</td>\n",
       "      <td>2020-01-02</td>\n",
       "      <td>Controlled drugs</td>\n",
       "      <td>Other ethnic group - Not stated</td>\n",
       "    </tr>\n",
       "    <tr>\n",
       "      <th>4</th>\n",
       "      <td>10-17</td>\n",
       "      <td>A no further action disposal</td>\n",
       "      <td>White</td>\n",
       "      <td>Male</td>\n",
       "      <td>2020-01-03</td>\n",
       "      <td>Controlled drugs</td>\n",
       "      <td>Other ethnic group - Not stated</td>\n",
       "    </tr>\n",
       "    <tr>\n",
       "      <th>...</th>\n",
       "      <td>...</td>\n",
       "      <td>...</td>\n",
       "      <td>...</td>\n",
       "      <td>...</td>\n",
       "      <td>...</td>\n",
       "      <td>...</td>\n",
       "      <td>...</td>\n",
       "    </tr>\n",
       "    <tr>\n",
       "      <th>275</th>\n",
       "      <td>10-17</td>\n",
       "      <td>A no further action disposal</td>\n",
       "      <td>White</td>\n",
       "      <td>Male</td>\n",
       "      <td>2020-01-29</td>\n",
       "      <td>Controlled drugs</td>\n",
       "      <td>White - English/Welsh/Scottish/Northern Irish/...</td>\n",
       "    </tr>\n",
       "    <tr>\n",
       "      <th>276</th>\n",
       "      <td>18-24</td>\n",
       "      <td>A no further action disposal</td>\n",
       "      <td>White</td>\n",
       "      <td>Male</td>\n",
       "      <td>2020-01-19</td>\n",
       "      <td>Controlled drugs</td>\n",
       "      <td>White - Any other White background</td>\n",
       "    </tr>\n",
       "    <tr>\n",
       "      <th>277</th>\n",
       "      <td>18-24</td>\n",
       "      <td>A no further action disposal</td>\n",
       "      <td>White</td>\n",
       "      <td>Male</td>\n",
       "      <td>2020-01-19</td>\n",
       "      <td>Controlled drugs</td>\n",
       "      <td>White - Any other White background</td>\n",
       "    </tr>\n",
       "    <tr>\n",
       "      <th>278</th>\n",
       "      <td>10-17</td>\n",
       "      <td>A no further action disposal</td>\n",
       "      <td>Other</td>\n",
       "      <td>Male</td>\n",
       "      <td>2020-01-19</td>\n",
       "      <td>Controlled drugs</td>\n",
       "      <td>Mixed/Multiple ethnic groups - Any other Mixed...</td>\n",
       "    </tr>\n",
       "    <tr>\n",
       "      <th>279</th>\n",
       "      <td>10-17</td>\n",
       "      <td>A no further action disposal</td>\n",
       "      <td>Other</td>\n",
       "      <td>Male</td>\n",
       "      <td>2020-01-19</td>\n",
       "      <td>Controlled drugs</td>\n",
       "      <td>Mixed/Multiple ethnic groups - Any other Mixed...</td>\n",
       "    </tr>\n",
       "  </tbody>\n",
       "</table>\n",
       "<p>280 rows × 7 columns</p>\n",
       "</div>"
      ],
      "text/plain": [
       "    age_range                       outcome officer_defined_ethnicity gender  \\\n",
       "0       25-34                        Arrest                     White   Male   \n",
       "1       18-24  A no further action disposal                     White   Male   \n",
       "2       10-17  A no further action disposal                     Other   Male   \n",
       "3       18-24  A no further action disposal                     White   Male   \n",
       "4       10-17  A no further action disposal                     White   Male   \n",
       "..        ...                           ...                       ...    ...   \n",
       "275     10-17  A no further action disposal                     White   Male   \n",
       "276     18-24  A no further action disposal                     White   Male   \n",
       "277     18-24  A no further action disposal                     White   Male   \n",
       "278     10-17  A no further action disposal                     Other   Male   \n",
       "279     10-17  A no further action disposal                     Other   Male   \n",
       "\n",
       "       datetime                     object_of_search  \\\n",
       "0    2020-01-01                     Controlled drugs   \n",
       "1    2020-01-02  Anything to threaten or harm anyone   \n",
       "2    2020-01-03             Article for use in theft   \n",
       "3    2020-01-02                     Controlled drugs   \n",
       "4    2020-01-03                     Controlled drugs   \n",
       "..          ...                                  ...   \n",
       "275  2020-01-29                     Controlled drugs   \n",
       "276  2020-01-19                     Controlled drugs   \n",
       "277  2020-01-19                     Controlled drugs   \n",
       "278  2020-01-19                     Controlled drugs   \n",
       "279  2020-01-19                     Controlled drugs   \n",
       "\n",
       "                                self_defined_ethnicity  \n",
       "0                      Other ethnic group - Not stated  \n",
       "1    White - English/Welsh/Scottish/Northern Irish/...  \n",
       "2                      Other ethnic group - Not stated  \n",
       "3                      Other ethnic group - Not stated  \n",
       "4                      Other ethnic group - Not stated  \n",
       "..                                                 ...  \n",
       "275  White - English/Welsh/Scottish/Northern Irish/...  \n",
       "276                 White - Any other White background  \n",
       "277                 White - Any other White background  \n",
       "278  Mixed/Multiple ethnic groups - Any other Mixed...  \n",
       "279  Mixed/Multiple ethnic groups - Any other Mixed...  \n",
       "\n",
       "[280 rows x 7 columns]"
      ]
     },
     "execution_count": 7,
     "metadata": {},
     "output_type": "execute_result"
    }
   ],
   "source": [
    "df"
   ]
  },
  {
   "cell_type": "code",
   "execution_count": 5,
   "metadata": {},
   "outputs": [
    {
     "data": {
      "text/html": [
       "<div>\n",
       "<style scoped>\n",
       "    .dataframe tbody tr th:only-of-type {\n",
       "        vertical-align: middle;\n",
       "    }\n",
       "\n",
       "    .dataframe tbody tr th {\n",
       "        vertical-align: top;\n",
       "    }\n",
       "\n",
       "    .dataframe thead th {\n",
       "        text-align: right;\n",
       "    }\n",
       "</style>\n",
       "<table border=\"1\" class=\"dataframe\">\n",
       "  <thead>\n",
       "    <tr style=\"text-align: right;\">\n",
       "      <th></th>\n",
       "      <th>age_range</th>\n",
       "      <th>outcome</th>\n",
       "      <th>officer_defined_ethnicity</th>\n",
       "      <th>gender</th>\n",
       "      <th>datetime</th>\n",
       "      <th>object_of_search</th>\n",
       "      <th>self_defined_ethnicity</th>\n",
       "    </tr>\n",
       "  </thead>\n",
       "  <tbody>\n",
       "    <tr>\n",
       "      <th>1</th>\n",
       "      <td>18-24</td>\n",
       "      <td>A no further action disposal</td>\n",
       "      <td>None</td>\n",
       "      <td>Male</td>\n",
       "      <td>2020-01-01</td>\n",
       "      <td>Controlled drugs</td>\n",
       "      <td>None</td>\n",
       "    </tr>\n",
       "    <tr>\n",
       "      <th>2</th>\n",
       "      <td>18-24</td>\n",
       "      <td>A no further action disposal</td>\n",
       "      <td>None</td>\n",
       "      <td>Male</td>\n",
       "      <td>2020-01-01</td>\n",
       "      <td>Controlled drugs</td>\n",
       "      <td>None</td>\n",
       "    </tr>\n",
       "    <tr>\n",
       "      <th>7</th>\n",
       "      <td>18-24</td>\n",
       "      <td>Arrest</td>\n",
       "      <td>White</td>\n",
       "      <td>Male</td>\n",
       "      <td>2020-01-03</td>\n",
       "      <td>Controlled drugs</td>\n",
       "      <td>White - English/Welsh/Scottish/Northern Irish/...</td>\n",
       "    </tr>\n",
       "    <tr>\n",
       "      <th>11</th>\n",
       "      <td>18-24</td>\n",
       "      <td>A no further action disposal</td>\n",
       "      <td>White</td>\n",
       "      <td>Male</td>\n",
       "      <td>2020-01-04</td>\n",
       "      <td>Controlled drugs</td>\n",
       "      <td>White - English/Welsh/Scottish/Northern Irish/...</td>\n",
       "    </tr>\n",
       "    <tr>\n",
       "      <th>15</th>\n",
       "      <td>18-24</td>\n",
       "      <td>Arrest</td>\n",
       "      <td>Black</td>\n",
       "      <td>Male</td>\n",
       "      <td>2020-01-04</td>\n",
       "      <td>Offensive weapons</td>\n",
       "      <td>Black/African/Caribbean/Black British - Caribbean</td>\n",
       "    </tr>\n",
       "    <tr>\n",
       "      <th>...</th>\n",
       "      <td>...</td>\n",
       "      <td>...</td>\n",
       "      <td>...</td>\n",
       "      <td>...</td>\n",
       "      <td>...</td>\n",
       "      <td>...</td>\n",
       "      <td>...</td>\n",
       "    </tr>\n",
       "    <tr>\n",
       "      <th>161</th>\n",
       "      <td>18-24</td>\n",
       "      <td>Arrest</td>\n",
       "      <td>White</td>\n",
       "      <td>Male</td>\n",
       "      <td>2020-01-29</td>\n",
       "      <td>None</td>\n",
       "      <td>White - English/Welsh/Scottish/Northern Irish/...</td>\n",
       "    </tr>\n",
       "    <tr>\n",
       "      <th>162</th>\n",
       "      <td>18-24</td>\n",
       "      <td>A no further action disposal</td>\n",
       "      <td>White</td>\n",
       "      <td>Female</td>\n",
       "      <td>2020-01-29</td>\n",
       "      <td>Offensive weapons</td>\n",
       "      <td>White - English/Welsh/Scottish/Northern Irish/...</td>\n",
       "    </tr>\n",
       "    <tr>\n",
       "      <th>176</th>\n",
       "      <td>18-24</td>\n",
       "      <td></td>\n",
       "      <td>Asian</td>\n",
       "      <td>Male</td>\n",
       "      <td>2020-01-30</td>\n",
       "      <td>None</td>\n",
       "      <td>Asian/Asian British - Any other Asian background</td>\n",
       "    </tr>\n",
       "    <tr>\n",
       "      <th>177</th>\n",
       "      <td>18-24</td>\n",
       "      <td>A no further action disposal</td>\n",
       "      <td>White</td>\n",
       "      <td>Male</td>\n",
       "      <td>2020-01-30</td>\n",
       "      <td>Anything to threaten or harm anyone</td>\n",
       "      <td>None</td>\n",
       "    </tr>\n",
       "    <tr>\n",
       "      <th>183</th>\n",
       "      <td>18-24</td>\n",
       "      <td>A no further action disposal</td>\n",
       "      <td>White</td>\n",
       "      <td>Male</td>\n",
       "      <td>2020-01-31</td>\n",
       "      <td>Controlled drugs</td>\n",
       "      <td>White - English/Welsh/Scottish/Northern Irish/...</td>\n",
       "    </tr>\n",
       "  </tbody>\n",
       "</table>\n",
       "<p>68 rows × 7 columns</p>\n",
       "</div>"
      ],
      "text/plain": [
       "    age_range                       outcome officer_defined_ethnicity  gender  \\\n",
       "1       18-24  A no further action disposal                      None    Male   \n",
       "2       18-24  A no further action disposal                      None    Male   \n",
       "7       18-24                        Arrest                     White    Male   \n",
       "11      18-24  A no further action disposal                     White    Male   \n",
       "15      18-24                        Arrest                     Black    Male   \n",
       "..        ...                           ...                       ...     ...   \n",
       "161     18-24                        Arrest                     White    Male   \n",
       "162     18-24  A no further action disposal                     White  Female   \n",
       "176     18-24                                                   Asian    Male   \n",
       "177     18-24  A no further action disposal                     White    Male   \n",
       "183     18-24  A no further action disposal                     White    Male   \n",
       "\n",
       "       datetime                     object_of_search  \\\n",
       "1    2020-01-01                     Controlled drugs   \n",
       "2    2020-01-01                     Controlled drugs   \n",
       "7    2020-01-03                     Controlled drugs   \n",
       "11   2020-01-04                     Controlled drugs   \n",
       "15   2020-01-04                    Offensive weapons   \n",
       "..          ...                                  ...   \n",
       "161  2020-01-29                                 None   \n",
       "162  2020-01-29                    Offensive weapons   \n",
       "176  2020-01-30                                 None   \n",
       "177  2020-01-30  Anything to threaten or harm anyone   \n",
       "183  2020-01-31                     Controlled drugs   \n",
       "\n",
       "                                self_defined_ethnicity  \n",
       "1                                                 None  \n",
       "2                                                 None  \n",
       "7    White - English/Welsh/Scottish/Northern Irish/...  \n",
       "11   White - English/Welsh/Scottish/Northern Irish/...  \n",
       "15   Black/African/Caribbean/Black British - Caribbean  \n",
       "..                                                 ...  \n",
       "161  White - English/Welsh/Scottish/Northern Irish/...  \n",
       "162  White - English/Welsh/Scottish/Northern Irish/...  \n",
       "176   Asian/Asian British - Any other Asian background  \n",
       "177                                               None  \n",
       "183  White - English/Welsh/Scottish/Northern Irish/...  \n",
       "\n",
       "[68 rows x 7 columns]"
      ]
     },
     "execution_count": 5,
     "metadata": {},
     "output_type": "execute_result"
    }
   ],
   "source": [
    "options = ['10-17','18-24']\n",
    "# selecting rows based on condition of the tennegars\n",
    "teengare_drive = df[df['age_range'].isin(options)]\n",
    "teengare_drive"
   ]
  },
  {
   "cell_type": "code",
   "execution_count": 6,
   "metadata": {},
   "outputs": [
    {
     "data": {
      "image/png": "[encoded data removed]",
      "text/plain": [
       "<Figure size 648x252 with 1 Axes>"
      ]
     },
     "metadata": {
      "needs_background": "light"
     },
     "output_type": "display_data"
    }
   ],
   "source": [
    "plt.rcParams[\"figure.figsize\"] = [9.00, 3.50]\n",
    "plt.rcParams[\"figure.autolayout\"] = True\n",
    "\n",
    "\n",
    "\n",
    "ax = sns.countplot(x=\"age_range\", data=teengare_drive)\n",
    "\n",
    "plt.show()"
   ]
  },
  {
   "cell_type": "code",
   "execution_count": 19,
   "metadata": {},
   "outputs": [],
   "source": [
    "def func1(x,y):\n",
    "    options = ['10-17','18-24']\n",
    "    # selecting rows based on condition of the tennegars\n",
    "    diagmragm1 = df[df['age_range'].isin(options)]\n",
    "    plt.rcParams[\"figure.figsize\"] = [x, y]\n",
    "    plt.rcParams[\"figure.autolayout\"] = True\n",
    "    ax = sns.countplot(x=\"age_range\", data=diagmragm1)\n",
    "    plt.show()\n",
    "    \n",
    "    \n",
    "    return   "
   ]
  },
  {
   "cell_type": "code",
   "execution_count": 22,
   "metadata": {},
   "outputs": [
    {
     "data": {
      "image/png": "[encoded data removed]",
      "text/plain": [
       "<Figure size 720x288 with 1 Axes>"
      ]
     },
     "metadata": {
      "needs_background": "light"
     },
     "output_type": "display_data"
    }
   ],
   "source": [
    "func1(10.00,4.0)"
   ]
  },
  {
   "cell_type": "code",
   "execution_count": 9,
   "metadata": {},
   "outputs": [
    {
     "data": {
      "image/png": "[encoded data removed]",
      "text/plain": [
       "<Figure size 648x252 with 1 Axes>"
      ]
     },
     "metadata": {
      "needs_background": "light"
     },
     "output_type": "display_data"
    }
   ],
   "source": [
    "#the breakdown of age for cleveland-stop-and-search from the month of july 2020 t0 Apr2021\n",
    "ax = sns.countplot(x=\"age_range\", data=df)\n",
    "\n",
    "plt.show()"
   ]
  },
  {
   "cell_type": "code",
   "execution_count": 24,
   "metadata": {},
   "outputs": [
    {
     "data": {
      "image/png": "[encoded data removed]",
      "text/plain": [
       "<Figure size 720x288 with 1 Axes>"
      ]
     },
     "metadata": {
      "needs_background": "light"
     },
     "output_type": "display_data"
    }
   ],
   "source": [
    "def func2(data2):\n",
    "    ax = sns.countplot(x=\"age_range\", data=data2)\n",
    "    plt.show()\n",
    "    return \n",
    "func2(df)\n",
    "\n",
    "    "
   ]
  },
  {
   "cell_type": "code",
   "execution_count": 25,
   "metadata": {},
   "outputs": [
    {
     "data": {
      "image/png": "[encoded data removed]",
      "text/plain": [
       "<Figure size 720x288 with 1 Axes>"
      ]
     },
     "metadata": {
      "needs_background": "light"
     },
     "output_type": "display_data"
    }
   ],
   "source": [
    "# the breakdown for gender for cleveland-stop-and-search from the month of july 2020 t0 Apr2021\n",
    "#ax = sns.countplot(x=\"gender\", data=df)\n",
    "\n",
    "#plt.show()\n",
    "\n",
    "def func3(data3):\n",
    "    ax = sns.countplot(x=\"gender\", data=df)\n",
    "\n",
    "    plt.show()\n",
    "    return \n",
    "func3(df)\n",
    "\n"
   ]
  },
  {
   "cell_type": "code",
   "execution_count": 26,
   "metadata": {},
   "outputs": [
    {
     "data": {
      "image/png": "[encoded data removed]",
      "text/plain": [
       "<Figure size 720x288 with 1 Axes>"
      ]
     },
     "metadata": {
      "needs_background": "light"
     },
     "output_type": "display_data"
    }
   ],
   "source": [
    "#breakdown for officer defiebed ethnicity cleveland-stop-and-search from the month of july 2020 t0 Apr2021\n",
    "#ax = sns.countplot(x=\"officer_defined_ethnicity\", data=df)\n",
    "\n",
    "#plt.show()\n",
    "\n",
    "\n",
    "\n",
    "def func4(data4):\n",
    "    ax = sns.countplot(x=\"officer_defined_ethnicity\", data=data4)\n",
    "\n",
    "    plt.show()\n",
    "    return \n",
    "func4(df)\n",
    "\n",
    "    "
   ]
  },
  {
   "cell_type": "code",
   "execution_count": 27,
   "metadata": {},
   "outputs": [
    {
     "data": {
      "image/png": "[encoded data removed]",
      "text/plain": [
       "<Figure size 720x288 with 1 Axes>"
      ]
     },
     "metadata": {
      "needs_background": "light"
     },
     "output_type": "display_data"
    }
   ],
   "source": [
    "#breakdown for officer defiebed ethnicity cleveland-stop-and-search from the month of july 2020 t0 Apr2021\n",
    "#ax = sns.countplot(x=\"self_defined_ethnicity\", data=df)\n",
    "\n",
    "#plt.show()\n",
    "\n",
    "\n",
    "#self_defined_ethnicity\n",
    "\n",
    "def func5(data5):\n",
    "    ax = sns.countplot(x=\"self_defined_ethnicity\", data=df)\n",
    "\n",
    "    plt.show()\n",
    "    return\n",
    "func5(df)\n"
   ]
  },
  {
   "cell_type": "code",
   "execution_count": null,
   "metadata": {},
   "outputs": [],
   "source": []
  }
 ],
 "metadata": {
  "kernelspec": {
   "display_name": "Python 3",
   "language": "python",
   "name": "python3"
  },
  "language_info": {
   "codemirror_mode": {
    "name": "ipython",
    "version": 3
   },
   "file_extension": ".py",
   "mimetype": "text/x-python",
   "name": "python",
   "nbconvert_exporter": "python",
   "pygments_lexer": "ipython3",
   "version": "3.7.4"
  }
 },
 "nbformat": 4,
 "nbformat_minor": 2
}
